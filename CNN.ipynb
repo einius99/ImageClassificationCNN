{
  "nbformat": 4,
  "nbformat_minor": 0,
  "metadata": {
    "colab": {
      "name": "CNN.ipynb",
      "provenance": [],
      "collapsed_sections": [],
      "authorship_tag": "ABX9TyNRvRG3gJS5B8YngAiyh8We",
      "include_colab_link": true
    },
    "kernelspec": {
      "name": "python3",
      "display_name": "Python 3"
    },
    "accelerator": "GPU"
  },
  "cells": [
    {
      "cell_type": "markdown",
      "metadata": {
        "id": "view-in-github",
        "colab_type": "text"
      },
      "source": [
        "<a href=\"https://colab.research.google.com/github/einius99/ImageClassificationCNN/blob/main/CNN.ipynb\" target=\"_parent\"><img src=\"https://colab.research.google.com/assets/colab-badge.svg\" alt=\"Open In Colab\"/></a>"
      ]
    },
    {
      "cell_type": "code",
      "metadata": {
        "id": "ZDyI5zFpEIVo"
      },
      "source": [
        "!pip install tensorflow-gpu"
      ],
      "execution_count": null,
      "outputs": []
    },
    {
      "cell_type": "code",
      "metadata": {
        "id": "wVgYtUvNFLDB"
      },
      "source": [
        "import tensorflow as tf\r\n",
        "from tensorflow.keras import datasets, layers, models\r\n",
        "import matplotlib.pyplot as plt\r\n",
        "import matplotlib\r\n",
        "import numpy as np"
      ],
      "execution_count": 3,
      "outputs": []
    },
    {
      "cell_type": "code",
      "metadata": {
        "colab": {
          "base_uri": "https://localhost:8080/"
        },
        "id": "DEczhDmAFOil",
        "outputId": "59b5f3e3-1d8f-464b-e6a8-8b6bb1f28278"
      },
      "source": [
        "(train_images, train_labels), (test_images, test_labels) = datasets.cifar10.load_data()\r\n",
        "\r\n",
        "train_images = train_images / 255.0\r\n",
        "test_images = test_images / 255.0"
      ],
      "execution_count": 4,
      "outputs": [
        {
          "output_type": "stream",
          "text": [
            "Downloading data from https://www.cs.toronto.edu/~kriz/cifar-10-python.tar.gz\n",
            "170500096/170498071 [==============================] - 2s 0us/step\n"
          ],
          "name": "stdout"
        }
      ]
    },
    {
      "cell_type": "code",
      "metadata": {
        "colab": {
          "base_uri": "https://localhost:8080/"
        },
        "id": "pOBVtHE5UZrV",
        "outputId": "9725b86d-43fb-4745-91a7-c59ffb73ea5a"
      },
      "source": [
        "print(\"train_images.shape:\", train_images.shape)\r\n",
        "print(\"test_images.shape\", test_images.shape)"
      ],
      "execution_count": 5,
      "outputs": [
        {
          "output_type": "stream",
          "text": [
            "train_images.shape: (50000, 32, 32, 3)\n",
            "test_images.shape (10000, 32, 32, 3)\n"
          ],
          "name": "stdout"
        }
      ]
    },
    {
      "cell_type": "code",
      "metadata": {
        "colab": {
          "base_uri": "https://localhost:8080/"
        },
        "id": "O--PEnz4Bsum",
        "outputId": "5e9fade1-3a52-4586-8afe-e7529c82da0b"
      },
      "source": [
        "model = models.Sequential()\r\n",
        "model.add(layers.Conv2D(32, (3, 3), padding='same', activation='relu', input_shape= [32, 32, 3]))\r\n",
        "model.add(layers.BatchNormalization())\r\n",
        "model.add(layers.Conv2D(32, (3, 3), padding='same', activation='relu'))\r\n",
        "model.add(layers.BatchNormalization())\r\n",
        "model.add(layers.MaxPooling2D((2, 2)))\r\n",
        "\r\n",
        "model.add(layers.Conv2D(64, (3, 3), padding='same', activation='relu', input_shape= [32, 32, 3]))\r\n",
        "model.add(layers.BatchNormalization())\r\n",
        "model.add(layers.Conv2D(64, (3, 3), padding='same', activation='relu'))\r\n",
        "model.add(layers.BatchNormalization())\r\n",
        "model.add(layers.MaxPooling2D((2, 2)))\r\n",
        "\r\n",
        "model.add(layers.Conv2D(128, (3, 3), padding='same', activation='relu', input_shape= [32, 32, 3]))\r\n",
        "model.add(layers.BatchNormalization())\r\n",
        "model.add(layers.Conv2D(128, (3, 3), padding='same', activation='relu'))\r\n",
        "model.add(layers.BatchNormalization())\r\n",
        "model.add(layers.MaxPooling2D((2, 2)))\r\n",
        "\r\n",
        "model.add(layers.Flatten())\r\n",
        "model.add(layers.Dropout(0.2))\r\n",
        "model.add(layers.Dense(units=1024, activation='relu'))\r\n",
        "model.add(layers.Dropout(0.2))\r\n",
        "model.add(layers.Dense(units=10, activation='softmax'))\r\n",
        "\r\n",
        "\r\n",
        "model.compile(optimizer='adam',\r\n",
        "               loss='sparse_categorical_crossentropy',\r\n",
        "               metrics=['accuracy'])\r\n",
        "\r\n",
        "history = model.fit(train_images, train_labels, validation_data=(test_images, test_labels), batch_size=256, epochs=10, verbose=1)"
      ],
      "execution_count": 8,
      "outputs": [
        {
          "output_type": "stream",
          "text": [
            "Epoch 1/10\n",
            "  1/196 [..............................] - ETA: 4s - loss: 4.5027 - accuracy: 0.1055WARNING:tensorflow:Callbacks method `on_train_batch_end` is slow compared to the batch time (batch time: 0.0139s vs `on_train_batch_end` time: 0.0222s). Check your callbacks.\n",
            "196/196 [==============================] - 5s 27ms/step - loss: 1.6966 - accuracy: 0.4707 - val_loss: 3.6219 - val_accuracy: 0.1809\n",
            "Epoch 2/10\n",
            "196/196 [==============================] - 5s 26ms/step - loss: 1.0070 - accuracy: 0.6425 - val_loss: 2.6729 - val_accuracy: 0.2724\n",
            "Epoch 3/10\n",
            "196/196 [==============================] - 5s 26ms/step - loss: 0.7747 - accuracy: 0.7257 - val_loss: 0.9272 - val_accuracy: 0.6752\n",
            "Epoch 4/10\n",
            "196/196 [==============================] - 5s 26ms/step - loss: 0.6319 - accuracy: 0.7769 - val_loss: 0.7260 - val_accuracy: 0.7511\n",
            "Epoch 5/10\n",
            "196/196 [==============================] - 5s 26ms/step - loss: 0.5174 - accuracy: 0.8161 - val_loss: 0.6519 - val_accuracy: 0.7753\n",
            "Epoch 6/10\n",
            "196/196 [==============================] - 5s 26ms/step - loss: 0.4220 - accuracy: 0.8516 - val_loss: 0.6682 - val_accuracy: 0.7785\n",
            "Epoch 7/10\n",
            "196/196 [==============================] - 5s 26ms/step - loss: 0.3458 - accuracy: 0.8784 - val_loss: 0.6872 - val_accuracy: 0.7761\n",
            "Epoch 8/10\n",
            "196/196 [==============================] - 5s 26ms/step - loss: 0.2774 - accuracy: 0.9019 - val_loss: 0.7637 - val_accuracy: 0.7741\n",
            "Epoch 9/10\n",
            "196/196 [==============================] - 5s 26ms/step - loss: 0.2331 - accuracy: 0.9175 - val_loss: 0.6758 - val_accuracy: 0.7954\n",
            "Epoch 10/10\n",
            "196/196 [==============================] - 5s 26ms/step - loss: 0.1861 - accuracy: 0.9331 - val_loss: 0.6951 - val_accuracy: 0.8040\n"
          ],
          "name": "stdout"
        }
      ]
    },
    {
      "cell_type": "code",
      "metadata": {
        "colab": {
          "base_uri": "https://localhost:8080/"
        },
        "id": "hwXLe9PTGV_F",
        "outputId": "4d64f782-2561-4aa8-e4af-6e2ce279e972"
      },
      "source": [
        "model.summary()"
      ],
      "execution_count": 9,
      "outputs": [
        {
          "output_type": "stream",
          "text": [
            "Model: \"sequential_2\"\n",
            "_________________________________________________________________\n",
            "Layer (type)                 Output Shape              Param #   \n",
            "=================================================================\n",
            "conv2d_12 (Conv2D)           (None, 32, 32, 32)        896       \n",
            "_________________________________________________________________\n",
            "batch_normalization_12 (Batc (None, 32, 32, 32)        128       \n",
            "_________________________________________________________________\n",
            "conv2d_13 (Conv2D)           (None, 32, 32, 32)        9248      \n",
            "_________________________________________________________________\n",
            "batch_normalization_13 (Batc (None, 32, 32, 32)        128       \n",
            "_________________________________________________________________\n",
            "max_pooling2d_6 (MaxPooling2 (None, 16, 16, 32)        0         \n",
            "_________________________________________________________________\n",
            "conv2d_14 (Conv2D)           (None, 16, 16, 64)        18496     \n",
            "_________________________________________________________________\n",
            "batch_normalization_14 (Batc (None, 16, 16, 64)        256       \n",
            "_________________________________________________________________\n",
            "conv2d_15 (Conv2D)           (None, 16, 16, 64)        36928     \n",
            "_________________________________________________________________\n",
            "batch_normalization_15 (Batc (None, 16, 16, 64)        256       \n",
            "_________________________________________________________________\n",
            "max_pooling2d_7 (MaxPooling2 (None, 8, 8, 64)          0         \n",
            "_________________________________________________________________\n",
            "conv2d_16 (Conv2D)           (None, 8, 8, 128)         73856     \n",
            "_________________________________________________________________\n",
            "batch_normalization_16 (Batc (None, 8, 8, 128)         512       \n",
            "_________________________________________________________________\n",
            "conv2d_17 (Conv2D)           (None, 8, 8, 128)         147584    \n",
            "_________________________________________________________________\n",
            "batch_normalization_17 (Batc (None, 8, 8, 128)         512       \n",
            "_________________________________________________________________\n",
            "max_pooling2d_8 (MaxPooling2 (None, 4, 4, 128)         0         \n",
            "_________________________________________________________________\n",
            "flatten_2 (Flatten)          (None, 2048)              0         \n",
            "_________________________________________________________________\n",
            "dropout_4 (Dropout)          (None, 2048)              0         \n",
            "_________________________________________________________________\n",
            "dense_4 (Dense)              (None, 1024)              2098176   \n",
            "_________________________________________________________________\n",
            "dropout_5 (Dropout)          (None, 1024)              0         \n",
            "_________________________________________________________________\n",
            "dense_5 (Dense)              (None, 10)                10250     \n",
            "=================================================================\n",
            "Total params: 2,397,226\n",
            "Trainable params: 2,396,330\n",
            "Non-trainable params: 896\n",
            "_________________________________________________________________\n"
          ],
          "name": "stdout"
        }
      ]
    },
    {
      "cell_type": "code",
      "metadata": {
        "colab": {
          "base_uri": "https://localhost:8080/"
        },
        "id": "ThfRm0O0JobR",
        "outputId": "f920b842-8b81-4c6b-aff5-9555887a4697"
      },
      "source": [
        "model1 = models.Sequential()\r\n",
        "model1.add(layers.Conv2D(32, (3, 3), padding='same', activation='relu', input_shape= [32, 32, 3]))\r\n",
        "model1.add(layers.MaxPooling2D((2, 2)))\r\n",
        "model1.add(layers.Conv2D(64, (3, 3), padding='same', activation='relu'))\r\n",
        "model1.add(layers.MaxPooling2D((2, 2)))\r\n",
        "\r\n",
        "model1.add(layers.Flatten())\r\n",
        "model1.add(layers.Dense(units=64, activation='relu'))\r\n",
        "model1.add(layers.Dropout(0.2))\r\n",
        "model1.add(layers.Dense(units=10, activation='softmax'))\r\n",
        "\r\n",
        "model1.compile(optimizer='adam',\r\n",
        "               loss='sparse_categorical_crossentropy',\r\n",
        "               metrics=['accuracy'])\r\n",
        "\r\n",
        "history = model1.fit(train_images, train_labels, validation_data=(test_images, test_labels), batch_size=256, epochs=10, verbose=1)"
      ],
      "execution_count": 10,
      "outputs": [
        {
          "output_type": "stream",
          "text": [
            "Epoch 1/10\n",
            "196/196 [==============================] - 2s 10ms/step - loss: 1.7675 - accuracy: 0.3586 - val_loss: 1.4331 - val_accuracy: 0.4926\n",
            "Epoch 2/10\n",
            "196/196 [==============================] - 2s 8ms/step - loss: 1.4177 - accuracy: 0.4909 - val_loss: 1.2678 - val_accuracy: 0.5537\n",
            "Epoch 3/10\n",
            "196/196 [==============================] - 2s 8ms/step - loss: 1.2822 - accuracy: 0.5430 - val_loss: 1.1608 - val_accuracy: 0.5957\n",
            "Epoch 4/10\n",
            "196/196 [==============================] - 2s 8ms/step - loss: 1.1962 - accuracy: 0.5761 - val_loss: 1.0851 - val_accuracy: 0.6192\n",
            "Epoch 5/10\n",
            "196/196 [==============================] - 2s 8ms/step - loss: 1.1156 - accuracy: 0.6047 - val_loss: 1.0697 - val_accuracy: 0.6184\n",
            "Epoch 6/10\n",
            "196/196 [==============================] - 2s 8ms/step - loss: 1.0689 - accuracy: 0.6220 - val_loss: 0.9996 - val_accuracy: 0.6512\n",
            "Epoch 7/10\n",
            "196/196 [==============================] - 2s 8ms/step - loss: 1.0232 - accuracy: 0.6381 - val_loss: 0.9535 - val_accuracy: 0.6726\n",
            "Epoch 8/10\n",
            "196/196 [==============================] - 2s 8ms/step - loss: 0.9825 - accuracy: 0.6526 - val_loss: 0.9805 - val_accuracy: 0.6552\n",
            "Epoch 9/10\n",
            "196/196 [==============================] - 2s 8ms/step - loss: 0.9599 - accuracy: 0.6623 - val_loss: 0.9362 - val_accuracy: 0.6723\n",
            "Epoch 10/10\n",
            "196/196 [==============================] - 2s 8ms/step - loss: 0.9285 - accuracy: 0.6742 - val_loss: 0.9511 - val_accuracy: 0.6624\n"
          ],
          "name": "stdout"
        }
      ]
    },
    {
      "cell_type": "code",
      "metadata": {
        "colab": {
          "base_uri": "https://localhost:8080/",
          "height": 283
        },
        "id": "ZJ68-FJk_UFA",
        "outputId": "8b6ef287-6336-4827-ea8f-6e3cb5c7d769"
      },
      "source": [
        "x=range(1,11)\r\n",
        "plt.plot(x, history.history['accuracy'], label='acc')\r\n",
        "plt.plot(x, history.history['val_accuracy'], label='val_acc')\r\n",
        "plt.legend()"
      ],
      "execution_count": 11,
      "outputs": [
        {
          "output_type": "execute_result",
          "data": {
            "text/plain": [
              "<matplotlib.legend.Legend at 0x7f48fa377780>"
            ]
          },
          "metadata": {
            "tags": []
          },
          "execution_count": 11
        },
        {
          "output_type": "display_data",
          "data": {
            "image/png": "[encoded data removed]",
            "text/plain": [
              "<Figure size 432x288 with 1 Axes>"
            ]
          },
          "metadata": {
            "tags": [],
            "needs_background": "light"
          }
        }
      ]
    },
    {
      "cell_type": "code",
      "metadata": {
        "colab": {
          "base_uri": "https://localhost:8080/",
          "height": 285
        },
        "id": "x8WDRKb2Ppz_",
        "outputId": "b342fcb9-ed50-469e-eda4-5297792df9ea"
      },
      "source": [
        "plt.plot(x, history.history['loss'], label='loss')\r\n",
        "plt.plot(x, history.history['val_loss'], label='val_loss')\r\n",
        "plt.legend()"
      ],
      "execution_count": 12,
      "outputs": [
        {
          "output_type": "execute_result",
          "data": {
            "text/plain": [
              "<matplotlib.legend.Legend at 0x7f48fa090588>"
            ]
          },
          "metadata": {
            "tags": []
          },
          "execution_count": 12
        },
        {
          "output_type": "display_data",
          "data": {
            "image/png": "[encoded data removed]",
            "text/plain": [
              "<Figure size 432x288 with 1 Axes>"
            ]
          },
          "metadata": {
            "tags": [],
            "needs_background": "light"
          }
        }
      ]
    },
    {
      "cell_type": "code",
      "metadata": {
        "colab": {
          "base_uri": "https://localhost:8080/",
          "height": 727
        },
        "id": "y7hh0ITCYS3l",
        "outputId": "db457b5f-2891-48f0-9084-99b7baf9cc9b"
      },
      "source": [
        "from sklearn.metrics import confusion_matrix\r\n",
        "import itertools\r\n",
        "plt.rcParams['figure.figsize'] = [10,7]\r\n",
        "\r\n",
        "def plot_confusion_matrix(cm, classes,\r\n",
        "                          normalize=False,\r\n",
        "                          title='Confusion matrix',\r\n",
        "                          cmap=plt.cm.Blues):\r\n",
        "\r\n",
        "  if normalize:\r\n",
        "      cm = cm.astype('float') / cm.sum(axis=1)[:, np.newaxis]\r\n",
        "      print(\"Normalized confusion matrix\")\r\n",
        "  else:\r\n",
        "      print('Confusion matrix, without normalization')\r\n",
        "\r\n",
        "  print(cm)\r\n",
        "\r\n",
        "  classes = ['airplane', 'automobile', 'bird', 'cat', 'deer', \r\n",
        "             'dog', 'frog', 'horse', 'ship', 'truck']\r\n",
        "\r\n",
        "  plt.imshow(cm, interpolation='nearest', cmap=cmap)\r\n",
        "  plt.title(title)\r\n",
        "  plt.colorbar()\r\n",
        "  tick_marks = np.arange(len(classes))\r\n",
        "  plt.xticks(tick_marks, classes, rotation=45)\r\n",
        "  plt.yticks(tick_marks, classes)\r\n",
        "\r\n",
        "  fmt = '.2f' if normalize else 'd'\r\n",
        "  thresh = cm.max() / 2.\r\n",
        "  for i, j in itertools.product(range(cm.shape[0]), range(cm.shape[1])):\r\n",
        "      plt.text(j, i, format(cm[i, j], fmt),\r\n",
        "               horizontalalignment=\"center\",\r\n",
        "               color=\"white\" if cm[i, j] > thresh else \"black\")\r\n",
        "\r\n",
        "  plt.tight_layout()\r\n",
        "  plt.ylabel('Real')\r\n",
        "  plt.xlabel('Predicted')\r\n",
        "  plt.show()\r\n",
        "\r\n",
        "\r\n",
        "p_test = model.predict(test_images).argmax(axis=1)\r\n",
        "cm = confusion_matrix(test_labels, p_test)\r\n",
        "plot_confusion_matrix(cm, list(range(10)))"
      ],
      "execution_count": 22,
      "outputs": [
        {
          "output_type": "stream",
          "text": [
            "Confusion matrix, without normalization\n",
            "[[860  13  24  15  11   3   4   3  46  21]\n",
            " [ 17 902   3   2   0   2   3   0  14  57]\n",
            " [ 58   4 764  46  47  21  32  12  12   4]\n",
            " [ 25   4  68 668  39 110  41  13  21  11]\n",
            " [ 24   1  65  55 759  23  30  28  14   1]\n",
            " [ 16   5  51 162  23 684  20  20  12   7]\n",
            " [  8   5  43  57  16  15 846   1   7   2]\n",
            " [ 18   4  36  41  31  70   5 772   8  15]\n",
            " [ 49  16   6   4   3   2   2   1 893  24]\n",
            " [ 25  42   1   7   2   3   3   2  23 892]]\n"
          ],
          "name": "stdout"
        },
        {
          "output_type": "display_data",
          "data": {
            "image/png": "[encoded data removed]",
            "text/plain": [
              "<Figure size 720x504 with 2 Axes>"
            ]
          },
          "metadata": {
            "tags": [],
            "needs_background": "light"
          }
        }
      ]
    },
    {
      "cell_type": "code",
      "metadata": {
        "colab": {
          "base_uri": "https://localhost:8080/"
        },
        "id": "_BfMsQdZkTSU",
        "outputId": "bf6aac45-0bd2-443f-fbf9-e5b46fe45651"
      },
      "source": [
        "predictions = model.predict(test_images)\r\n",
        "\r\n",
        "class_names = ['airplane', 'automobile', 'bird', 'cat', 'deer',\r\n",
        "               'dog', 'frog', 'horse', 'ship', 'truck']\r\n",
        "\r\n",
        "for i in range(30):\r\n",
        "  print(predictions[i])\r\n",
        "  print(test_labels[i])\r\n",
        "  print(class_names[test_labels[i][0]])"
      ],
      "execution_count": 23,
      "outputs": [
        {
          "output_type": "stream",
          "text": [
            "[7.3274038e-08 2.0969603e-07 4.0001651e-06 9.9408239e-01 3.4617369e-07\n",
            " 5.9072259e-03 5.6177137e-06 9.7161186e-09 8.1591224e-08 1.6693681e-09]\n",
            "[3]\n",
            "cat\n",
            "[4.2347588e-06 1.0434759e-02 1.5779844e-12 2.1549247e-12 6.1678652e-13\n",
            " 2.6670511e-14 1.9004297e-13 1.4445784e-15 9.8953104e-01 2.9981651e-05]\n",
            "[8]\n",
            "ship\n",
            "[4.1391162e-05 1.9063991e-04 6.2379363e-10 7.7453155e-09 1.2656903e-10\n",
            " 4.2459868e-12 1.0573207e-09 1.4872940e-10 9.9976391e-01 4.0599048e-06]\n",
            "[8]\n",
            "ship\n",
            "[9.9257153e-01 7.7287123e-06 1.5173096e-03 1.7272256e-05 7.2049347e-06\n",
            " 2.4432509e-07 9.7388022e-07 1.9821452e-06 5.5101938e-03 3.6560080e-04]\n",
            "[0]\n",
            "airplane\n",
            "[1.4691849e-10 1.3132718e-06 1.1087698e-02 1.5882213e-02 1.6572777e-02\n",
            " 5.9691601e-08 9.5645589e-01 4.6354722e-11 6.0381524e-08 4.1952233e-09]\n",
            "[6]\n",
            "frog\n",
            "[2.1635796e-07 9.7948082e-08 5.9128193e-05 3.6709560e-03 1.0270091e-05\n",
            " 4.7622799e-04 9.9578226e-01 2.6953595e-07 1.9098384e-07 4.6997417e-07]\n",
            "[6]\n",
            "frog\n",
            "[1.01707534e-04 7.63800561e-01 1.15931362e-05 3.51867129e-05\n",
            " 1.32489220e-07 4.40455733e-06 6.35607478e-07 1.26387846e-07\n",
            " 7.26032977e-06 2.36038312e-01]\n",
            "[1]\n",
            "automobile\n",
            "[5.3919518e-08 5.3895737e-09 1.3868032e-02 7.7057378e-03 1.1900424e-04\n",
            " 7.8182211e-06 9.7829849e-01 1.9394567e-07 4.2063206e-07 2.9129163e-07]\n",
            "[6]\n",
            "frog\n",
            "[2.7979024e-07 3.5900896e-08 1.7867309e-05 9.9868494e-01 7.4880797e-04\n",
            " 3.2395768e-04 2.1319198e-04 1.0808119e-05 8.2914760e-09 1.1985983e-07]\n",
            "[3]\n",
            "cat\n",
            "[1.3638076e-07 8.3974952e-01 6.0043057e-08 5.8689199e-08 3.6356580e-09\n",
            " 4.2633439e-09 1.0680919e-07 9.3430574e-10 6.9241210e-06 1.6024332e-01]\n",
            "[1]\n",
            "automobile\n",
            "[9.9956518e-01 1.9930848e-08 4.9761544e-05 1.8180262e-04 1.2974993e-04\n",
            " 5.0802271e-05 5.7000932e-07 1.4085529e-05 6.7275541e-06 1.3287157e-06]\n",
            "[0]\n",
            "airplane\n",
            "[1.4409913e-12 1.7846723e-08 5.4043738e-18 1.6156599e-16 1.3679924e-20\n",
            " 8.6592391e-22 1.1280440e-19 1.2637061e-19 1.2700003e-12 1.0000000e+00]\n",
            "[9]\n",
            "truck\n",
            "[1.0996921e-05 7.1694097e-07 9.0172999e-03 9.7965389e-02 3.7726618e-02\n",
            " 8.1856084e-01 3.5616592e-02 1.0972519e-03 3.9477131e-06 3.9668484e-07]\n",
            "[5]\n",
            "dog\n",
            "[5.9492102e-08 6.1898318e-09 1.1435986e-08 1.4575170e-07 3.3710128e-09\n",
            " 2.1688700e-04 1.1515946e-08 9.9978286e-01 6.9298339e-10 5.2664442e-09]\n",
            "[7]\n",
            "horse\n",
            "[6.5912423e-06 3.8684724e-05 2.3635352e-10 3.1613997e-08 3.7761023e-11\n",
            " 5.6372984e-12 2.5388525e-11 3.6274064e-11 2.8242599e-05 9.9992645e-01]\n",
            "[9]\n",
            "truck\n",
            "[1.2239397e-03 7.6864316e-04 2.2914423e-05 7.1593568e-08 3.4769487e-06\n",
            " 1.7840774e-08 1.1929727e-04 5.1996323e-09 9.9781513e-01 4.6536010e-05]\n",
            "[8]\n",
            "ship\n",
            "[3.9539623e-06 6.8356502e-07 4.9027540e-03 1.3220095e-02 1.1349837e-05\n",
            " 9.8123610e-01 2.7401555e-05 5.6886970e-04 2.6322379e-05 2.4901133e-06]\n",
            "[5]\n",
            "dog\n",
            "[3.1735110e-06 3.8721109e-06 8.1471815e-05 3.2546863e-02 1.8680537e-04\n",
            " 1.5371865e-01 4.7325353e-05 8.1319839e-01 2.0754439e-06 2.1142563e-04]\n",
            "[7]\n",
            "horse\n",
            "[3.1406447e-07 6.5811903e-08 1.6064031e-13 6.5294284e-15 1.3262082e-14\n",
            " 3.4536864e-19 1.2669088e-14 9.9280425e-16 9.9999952e-01 7.3451531e-08]\n",
            "[8]\n",
            "ship\n",
            "[1.1543537e-12 5.9423055e-10 1.9469974e-07 7.1750557e-09 8.9874090e-09\n",
            " 1.0225346e-09 9.9999976e-01 1.8992867e-13 3.2960603e-11 1.8805878e-14]\n",
            "[6]\n",
            "frog\n",
            "[1.1377211e-04 7.3256226e-05 1.1273535e-04 3.9768615e-04 3.3707904e-05\n",
            " 6.4780557e-04 3.3114638e-08 9.9832195e-01 4.5093147e-06 2.9452911e-04]\n",
            "[7]\n",
            "horse\n",
            "[9.0058357e-01 2.0031808e-10 9.9403128e-02 9.1417814e-06 2.3320801e-08\n",
            " 2.9369243e-08 2.2172991e-07 1.1028654e-10 3.7617863e-06 1.4648479e-07]\n",
            "[0]\n",
            "airplane\n",
            "[5.4359508e-01 4.4978745e-07 1.1251838e-01 7.6313475e-03 3.3366638e-01\n",
            " 3.3469848e-06 3.5964680e-05 4.0806910e-05 2.4923722e-03 1.5912496e-05]\n",
            "[4]\n",
            "deer\n",
            "[3.9229104e-09 5.5680903e-08 5.4209207e-15 1.9530768e-13 3.5205622e-16\n",
            " 1.8742401e-17 5.4441280e-16 5.4237280e-17 4.5107594e-12 1.0000000e+00]\n",
            "[9]\n",
            "truck\n",
            "[6.9033391e-05 1.5787809e-05 2.1734906e-02 2.3602925e-02 9.2367476e-01\n",
            " 3.0261124e-02 6.7996157e-06 6.2648166e-04 6.3672492e-06 1.9118640e-06]\n",
            "[5]\n",
            "dog\n",
            "[1.24306898e-04 2.42013102e-05 6.78632557e-01 5.71224280e-02\n",
            " 3.85332061e-03 1.27869155e-02 2.47065097e-01 3.13186873e-04\n",
            " 1.25049974e-05 6.55051335e-05]\n",
            "[2]\n",
            "bird\n",
            "[2.9883368e-04 6.9795869e-06 1.0768814e-01 8.6055547e-02 6.7640519e-01\n",
            " 4.0310495e-02 6.2132794e-02 2.7046550e-02 3.8850735e-06 5.1558294e-05]\n",
            "[4]\n",
            "deer\n",
            "[9.9338007e-01 9.4827302e-09 4.1145706e-03 3.5015744e-04 2.0591018e-03\n",
            " 4.5940411e-05 3.0701744e-05 9.3404964e-07 1.0375707e-07 1.8536219e-05]\n",
            "[0]\n",
            "airplane\n",
            "[1.3763305e-06 2.0901107e-06 2.4303908e-08 8.6742418e-09 1.2661731e-10\n",
            " 4.7963666e-10 6.1441401e-11 1.0162609e-09 2.9087122e-09 9.9999654e-01]\n",
            "[9]\n",
            "truck\n",
            "[2.4208800e-08 5.0338869e-08 6.1155724e-06 4.5420319e-07 1.3292860e-04\n",
            " 2.0754155e-06 9.9985778e-01 5.0098720e-07 1.2864457e-08 5.1507145e-09]\n",
            "[6]\n",
            "frog\n"
          ],
          "name": "stdout"
        }
      ]
    }
  ]
}